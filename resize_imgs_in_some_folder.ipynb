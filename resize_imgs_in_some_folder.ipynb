{
 "cells": [
  {
   "cell_type": "code",
   "execution_count": 23,
   "id": "swiss-disability",
   "metadata": {},
   "outputs": [],
   "source": [
    "import os\n",
    "from PIL import Image"
   ]
  },
  {
   "cell_type": "code",
   "execution_count": 24,
   "id": "statewide-sierra",
   "metadata": {},
   "outputs": [],
   "source": [
    "#変形したいファイルをimg{番号}フォルダに保存\n",
    "#ファイルがresized{番号}フォルダに出力される\n",
    "#img.resize((256,256))の数値を変えれば変形サイズを変えられる\n",
    "\n",
    "folders = []\n",
    "path = './imgs/'\n",
    "root_folders = os.listdir(path)\n",
    "\n",
    "for dir in root_folders:\n",
    "    folders.append(path+dir)"
   ]
  },
  {
   "cell_type": "code",
   "execution_count": 25,
   "id": "sustained-fellowship",
   "metadata": {},
   "outputs": [
    {
     "name": "stdout",
     "output_type": "stream",
     "text": [
      "['./imgs/img1', './imgs/img2', './imgs/resized_img1', './imgs/resized_img2']\n",
      "['img1', 'img2', 'resized_img1', 'resized_img2']\n"
     ]
    }
   ],
   "source": [
    "print(folders)\n",
    "print(root_folders)"
   ]
  },
  {
   "cell_type": "code",
   "execution_count": 27,
   "id": "romantic-theory",
   "metadata": {},
   "outputs": [],
   "source": [
    "for i,folder in enumerate(folders):\n",
    "    files = os.listdir(folder)\n",
    "    if not os.path.exists(\"./imgs/resized_\"+root_folders[i]):\n",
    "        os.mkdir(\"./imgs/resized_\"+root_folders[i])\n",
    "    \n",
    "    for j,file in enumerate(files):\n",
    "        files[j] = folder+\"/\"+file\n",
    "        img = Image.open(files[j])\n",
    "        img_resized = img.resize((256,256))\n",
    "    \n",
    "        new_dir = \"./imgs/resized_\"+root_folders[i]+\"/\"+file\n",
    "        img_resized.save(new_dir)"
   ]
  },
  {
   "cell_type": "code",
   "execution_count": null,
   "id": "wicked-dylan",
   "metadata": {},
   "outputs": [],
   "source": []
  }
 ],
 "metadata": {
  "kernelspec": {
   "display_name": "Python 3",
   "language": "python",
   "name": "python3"
  },
  "language_info": {
   "codemirror_mode": {
    "name": "ipython",
    "version": 3
   },
   "file_extension": ".py",
   "mimetype": "text/x-python",
   "name": "python",
   "nbconvert_exporter": "python",
   "pygments_lexer": "ipython3",
   "version": "3.8.5"
  }
 },
 "nbformat": 4,
 "nbformat_minor": 5
}
